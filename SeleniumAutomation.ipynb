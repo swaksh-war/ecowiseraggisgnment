{
 "cells": [
  {
   "cell_type": "code",
   "execution_count": 30,
   "metadata": {},
   "outputs": [],
   "source": [
    "import json\n",
    "\n",
    "with open('linkedincreds.json') as f:\n",
    "    creds = json.load(f)"
   ]
  },
  {
   "cell_type": "code",
   "execution_count": 31,
   "metadata": {},
   "outputs": [],
   "source": [
    "username = creds['email']\n",
    "password = creds['password']"
   ]
  },
  {
   "cell_type": "code",
   "execution_count": 32,
   "metadata": {},
   "outputs": [],
   "source": [
    "def logging(function):\n",
    "    def wrapper(*args, **kwargs):\n",
    "        value = function(*args, **kwargs)\n",
    "        with open('log.txt', 'a+') as file:\n",
    "            file.write(f'Executed : {function.__name__}, stauts: {value}')\n",
    "        return value\n",
    "    return wrapper"
   ]
  },
  {
   "cell_type": "code",
   "execution_count": 33,
   "metadata": {},
   "outputs": [],
   "source": [
    "# Importing the libraries\n",
    "from selenium import webdriver\n",
    "from selenium.webdriver.chrome.service import Service\n",
    "from selenium.webdriver.chrome.options import Options\n",
    "from selenium.webdriver.common.by import By\n",
    "from selenium.webdriver.common.keys import Keys\n",
    "from selenium.webdriver.support.wait import WebDriverWait\n",
    "from selenium.webdriver.support import expected_conditions as EC\n",
    "import time"
   ]
  },
  {
   "cell_type": "code",
   "execution_count": 34,
   "metadata": {},
   "outputs": [],
   "source": [
    "# Creating the service\n",
    "service = Service(r'chromedriver.exe')\n",
    "chrome_options = Options()\n",
    "chrome_options.add_argument('--start-maximized')\n",
    "\n",
    "driver = webdriver.Chrome(service=service, options=chrome_options)\n",
    "wait = WebDriverWait(driver, 10)\n",
    "# get to linkedin login page\n",
    "driver.get(r'https://linkedin.com/uas/login')\n",
    "time.sleep(2)\n",
    "\n",
    "# passing the creds to the service and logging in\n",
    "driver.find_element(By.ID, 'username').send_keys(username)\n",
    "driver.find_element(By.ID, 'password').send_keys(password)\n",
    "driver.find_element(By.XPATH, \"//button[@type='submit']\").click()\n",
    "time.sleep(2)\n",
    "\n",
    "try:\n",
    "    captcha = driver.find_element(By.ID, 'captcha-internal')\n",
    "    if captcha.is_displayed():\n",
    "        print('Solve the Captcha and press enter')\n",
    "        input()\n",
    "except:\n",
    "    pass\n",
    "\n",
    "firstname = 'firstname'\n",
    "lastname = 'lastname'\n",
    "\n"
   ]
  },
  {
   "cell_type": "code",
   "execution_count": 36,
   "metadata": {},
   "outputs": [],
   "source": [
    "#Lets get my own profile information\n",
    "driver.get(r'https://www.linkedin.com/in/ritesh-aie/')\n",
    "my_page = driver.page_source\n",
    "with open('my_page.html', 'w+') as f:\n",
    "    f.write(my_page)\n"
   ]
  },
  {
   "cell_type": "code",
   "execution_count": 7,
   "metadata": {},
   "outputs": [],
   "source": [
    "# lets search name now\n",
    "driver.find_element(By.ID, 'global-nav-search').click()\n",
    "\n",
    "search_bar_input = driver.find_element(By.XPATH, \"//input[@type='text']\")\n",
    "search_bar_input.send_keys(f'{firstname} {lastname}')\n",
    "search_bar_input.send_keys(Keys.RETURN)\n"
   ]
  },
  {
   "cell_type": "code",
   "execution_count": 8,
   "metadata": {},
   "outputs": [],
   "source": [
    "see_all_div = wait.until(EC.element_to_be_clickable((By.CLASS_NAME, \"search-results__cluster-bottom-banner\")))\n",
    "see_all_div.click()"
   ]
  },
  {
   "cell_type": "code",
   "execution_count": 9,
   "metadata": {},
   "outputs": [],
   "source": [
    "page_html = driver.page_source\n"
   ]
  },
  {
   "cell_type": "code",
   "execution_count": 11,
   "metadata": {},
   "outputs": [],
   "source": [
    "import bs4\n",
    "\n",
    "soup = bs4.BeautifulSoup(page_html, 'html.parser')"
   ]
  },
  {
   "cell_type": "code",
   "execution_count": null,
   "metadata": {},
   "outputs": [],
   "source": [
    "# with open('parsed.html', 'w+') as f:\n",
    "#     f.write(page_html)"
   ]
  },
  {
   "cell_type": "code",
   "execution_count": null,
   "metadata": {},
   "outputs": [],
   "source": [
    "# with open('parsed.html', 'r+') as f:\n",
    "#     html = f.read()"
   ]
  },
  {
   "cell_type": "code",
   "execution_count": null,
   "metadata": {},
   "outputs": [],
   "source": [
    "# soup = bs4.BeautifulSoup(html, 'html.parser')"
   ]
  },
  {
   "cell_type": "code",
   "execution_count": 12,
   "metadata": {},
   "outputs": [
    {
     "data": {
      "text/plain": [
       "10"
      ]
     },
     "execution_count": 12,
     "metadata": {},
     "output_type": "execute_result"
    }
   ],
   "source": [
    "all_present_persons = soup.find_all('li', class_ = 'reusable-search__result-container')\n",
    "len(all_present_persons)"
   ]
  },
  {
   "cell_type": "code",
   "execution_count": 13,
   "metadata": {},
   "outputs": [],
   "source": [
    "all_links = []\n",
    "for person in all_present_persons:\n",
    "    person_profile_link = person.find('a', class_ = 'app-aware-link')\n",
    "    # print(person_profile_link)\n",
    "    all_links.append(person_profile_link['href'])\n",
    "    # print('\\n\\n\\n\\n\\n\\n\\n')"
   ]
  },
  {
   "cell_type": "code",
   "execution_count": 14,
   "metadata": {},
   "outputs": [
    {
     "data": {
      "text/plain": [
       "['https://www.linkedin.com/in/firstname-lastname-2a24141b3?miniProfileUrn=urn%3Ali%3Afs_miniProfile%3AACoAADG3jZoBh6FdcPa6t-cvNCkx8iZEXE_uP1o',\n",
       " 'https://www.linkedin.com/in/firstname-lastname-523538222?miniProfileUrn=urn%3Ali%3Afs_miniProfile%3AACoAADf2x-sBiUkNhxsADPw4eRIWAV68eED6p48',\n",
       " 'https://www.linkedin.com/in/firstname-lastname-b6131a27?miniProfileUrn=urn%3Ali%3Afs_miniProfile%3AACoAAAWQbvkBQTEHAv9JfFoHMFWwFnNt841V_xE',\n",
       " 'https://www.linkedin.com/in/firstname-lastname-2a376a313?miniProfileUrn=urn%3Ali%3Afs_miniProfile%3AACoAAE-rLxsBEtd88vyaMgZkP32TcAbQD2O18OU',\n",
       " 'https://www.linkedin.com/search/results/people/headless?origin=CLUSTER_EXPANSION&keywords=firstname%20lastname',\n",
       " 'https://www.linkedin.com/in/firstname-lastname-b65814292?miniProfileUrn=urn%3Ali%3Afs_miniProfile%3AACoAAEb0sn0BqEr-WO6ZNW4CnIToufPz8CKeIgY',\n",
       " 'https://www.linkedin.com/in/firstname-lastname-60a5412a5?miniProfileUrn=urn%3Ali%3Afs_miniProfile%3AACoAAEmVmioBW1xDxjH9UgC6Gd-RPBJRLxwfA5I',\n",
       " 'https://www.linkedin.com/in/firstname-lastname-117a37303?miniProfileUrn=urn%3Ali%3Afs_miniProfile%3AACoAAE2SyuMB8GafUQy87zxgE3gYnCeFhV-Emfc',\n",
       " 'https://www.linkedin.com/in/firstname-lastname-841179227?miniProfileUrn=urn%3Ali%3Afs_miniProfile%3AACoAADjMtHEBBHaB33IlEPPJD0FCNnp0RIunlwQ',\n",
       " 'https://www.linkedin.com/in/firstname-lastname-82b628313?miniProfileUrn=urn%3Ali%3Afs_miniProfile%3AACoAAE-mFKMB5jFgmzkL3sPsHiWJD85EirYtq04']"
      ]
     },
     "execution_count": 14,
     "metadata": {},
     "output_type": "execute_result"
    }
   ],
   "source": [
    "all_links"
   ]
  },
  {
   "cell_type": "code",
   "execution_count": 15,
   "metadata": {},
   "outputs": [],
   "source": [
    "# from concurrent.futures import ThreadPoolExecutor, as_completed\n",
    "import random"
   ]
  },
  {
   "cell_type": "code",
   "execution_count": 20,
   "metadata": {},
   "outputs": [],
   "source": [
    "def get_profile_pages(url):\n",
    "    driver.get(url)\n",
    "    time.sleep(4)\n",
    "    driver.execute_script(\"window.scrollTo(0, document.body.scrollHeight);\")\n",
    "    _ = wait.until(EC.element_to_be_clickable((By.ID, 'globalfooter-about')))\n",
    "\n",
    "    page_html = driver.page_source\n",
    "    _soup = bs4.BeautifulSoup(page_html, 'html.parser')\n",
    "    name = _soup.find('h1')\n",
    "    name = name.text\n",
    "    val = random.randint(0,1999999999)\n",
    "    with open(f'{name}-{val}.html', 'w+') as f:\n",
    "        f.write(page_html)\n",
    "    return f'{name}-{val}.html'"
   ]
  },
  {
   "cell_type": "code",
   "execution_count": 22,
   "metadata": {},
   "outputs": [
    {
     "name": "stdout",
     "output_type": "stream",
     "text": [
      "True\n",
      "\n",
      "\n",
      "True\n",
      "\n",
      "\n",
      "True\n",
      "\n",
      "\n",
      "True\n",
      "\n",
      "\n",
      "True\n",
      "\n",
      "\n",
      "True\n",
      "\n",
      "\n",
      "True\n",
      "\n",
      "\n",
      "True\n",
      "\n",
      "\n",
      "True\n",
      "\n",
      "\n",
      "True\n",
      "\n",
      "\n"
     ]
    }
   ],
   "source": [
    "fetched_profile_pages = []\n",
    "for url in all_links:\n",
    "    try:\n",
    "        url_path = get_profile_pages(url)\n",
    "        fetched_profile_pages.append(url_path)\n",
    "        print(True)\n",
    "        print('\\n')\n",
    "    except Exception as e:\n",
    "        print(False)\n",
    "        print('\\n')\n",
    "        pass"
   ]
  },
  {
   "cell_type": "code",
   "execution_count": null,
   "metadata": {},
   "outputs": [],
   "source": [
    "def get_summary(soup):\n",
    "    try:\n",
    "        summary = soup.find('h2', class_ = 'top-card-layout__headline break-words font-sans leading-open text-color-text')\n",
    "    except:\n",
    "        try:\n",
    "            summary = soup.find('div', 'text-body-medium break-words')\n",
    "        except:\n",
    "            summary = None\n",
    "    return summary\n",
    "\n",
    "def get_education(soup):\n",
    "    education_list = []\n",
    "    \n",
    "    try:\n",
    "        education_container = soup.select_one('#education + div + div')\n",
    "        \n",
    "        education_container_list = education_container.find_all('li')\n",
    "        \n",
    "        for education in education_container_list:\n",
    "            education_dict = {}\n",
    "\n",
    "            try:\n",
    "                education_center = education.find('div', class_='justify-space-between')\n",
    "                \n",
    "                try:\n",
    "                    education_link = education_center.find('a', href=True)['href']\n",
    "                except:\n",
    "                    education_link = None\n",
    "                \n",
    "                try:\n",
    "                    education_institute = education_center.find('div', class_='display-flex').text.strip()\n",
    "                except:\n",
    "                    education_institute = None\n",
    "                \n",
    "                try:\n",
    "                    education_detail_container = education_center.find_all('div', class_='t-14 t-normal')\n",
    "                    education_branch = education_detail_container[0].text.strip() if len(education_detail_container) > 0 else None\n",
    "                    education_timeline = education_detail_container[1].text.strip() if len(education_detail_container) > 1 else None\n",
    "                except:\n",
    "                    education_branch = None\n",
    "                    education_timeline = None\n",
    "            except:\n",
    "                print('No Container Found')\n",
    "                education_link = None\n",
    "                education_institute = None\n",
    "                education_branch = None\n",
    "                education_timeline = None\n",
    "            \n",
    "            education_dict['link'] = education_link\n",
    "            education_dict['institute'] = education_institute\n",
    "            education_dict['domain'] = education_branch\n",
    "            education_dict['timeline'] = education_timeline\n",
    "            education_list.append(education_dict)\n",
    "    except Exception as e:\n",
    "        print(f\"An error occurred: {e}\")\n",
    "        education_list = []\n",
    "    \n",
    "    education_list_str = [str(edu) for edu in education_list]\n",
    "    return education_list_str\n",
    "\n",
    "\n",
    "def get_experience(soup):\n",
    "    experience_list = []\n",
    "    try:\n",
    "        experience_div = soup.find()\n"
   ]
  },
  {
   "cell_type": "code",
   "execution_count": null,
   "metadata": {},
   "outputs": [],
   "source": [
    "def get_details(html_path):\n",
    "    'full_name, details, connection_level, activity_links'\n",
    "    with open(html_path, 'r') as f:\n",
    "        html_data = f.read()\n",
    "        soup = bs4.BeautifulSoup(html_data, 'lxml')\n",
    "        name_detail_container = soup.find('div', class_='ph5')\n",
    "        full_name = name_detail_container.find('h1')\n",
    "        details = name_detail_container.find('div', class_='text-body-medium')\n",
    "        connection_level = name_detail_container.find('span', class_ = 'link-without-visited-state')\n",
    "        all_activities = soup.find_all('li', class_ = 'profile-creator-shared-feed-update__mini-container')\n",
    "        activity_links = []\n",
    "        for activity in all_activities:\n",
    "            activity_a = activity.find('a', href=True)\n",
    "            link = activity_a['href']\n",
    "            activity_links.append(link)\n",
    "\n",
    "    \n"
   ]
  }
 ],
 "metadata": {
  "kernelspec": {
   "display_name": "Python 3",
   "language": "python",
   "name": "python3"
  },
  "language_info": {
   "codemirror_mode": {
    "name": "ipython",
    "version": 3
   },
   "file_extension": ".py",
   "mimetype": "text/x-python",
   "name": "python",
   "nbconvert_exporter": "python",
   "pygments_lexer": "ipython3",
   "version": "3.10.14"
  }
 },
 "nbformat": 4,
 "nbformat_minor": 2
}
