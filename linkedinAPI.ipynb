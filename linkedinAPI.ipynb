{
 "cells": [
  {
   "cell_type": "code",
   "execution_count": 2,
   "metadata": {},
   "outputs": [],
   "source": [
    "import requests\n",
    "from dotenv import load_dotenv\n",
    "import os\n",
    "import pandas as pd\n",
    "import pickle\n",
    "\n",
    "def run_api(PROXYCURL_API_KEY, link):\n",
    "    api_endpoint = 'https://nubela.co/proxycurl/api/v2/linkedin'\n",
    "    header_dic = {'Authorization': 'Bearer ' + PROXYCURL_API_KEY}\n",
    "    params = {\n",
    "        'url': link,\n",
    "    }\n",
    "    response = requests.get(api_endpoint,\n",
    "                            params=params,\n",
    "                            headers=header_dic)\n",
    "    return response.json()"
   ]
  },
  {
   "cell_type": "code",
   "execution_count": null,
   "metadata": {},
   "outputs": [],
   "source": [
    "json_data = run_api(PROXYCURL_API_KEY, link)\n",
    "data = {}\n",
    "data['LinkedIn URL'] = json_data['public_identifier']\n",
    "data['Profile Pic URL'] = json_data['profile_pic_url']\n",
    "data['Name'] = json_data['full_name']\n",
    "data['Occupation'] = json_data['occupation']\n",
    "data['About'] = json_data['headline']\n",
    "data['Summary'] = json_data['summary']\n",
    "data['Country'] = json_data['country_full_name']\n",
    "data['City'] = json_data['city']\n",
    "data['State'] = json_data['state']\n",
    "data['Experience'] = json_data['experiences']\n",
    "\n",
    "print(data)\n",
    "\n",
    "data_df = pd.DataFrame([data])\n",
    "df2 = pd.concat([df2, data_df], ignore_index=True)\n",
    "\n",
    "temp_df_dict = df2.to_dict()\n",
    "with open('df2.pickle', 'wb') as handle:\n",
    "    pickle.dump(temp_df_dict, handle)\n",
    "df2.to_csv(f'{firstName} {lastName}2.csv', index=False)"
   ]
  }
 ],
 "metadata": {
  "kernelspec": {
   "display_name": "Python 3",
   "language": "python",
   "name": "python3"
  },
  "language_info": {
   "codemirror_mode": {
    "name": "ipython",
    "version": 3
   },
   "file_extension": ".py",
   "mimetype": "text/x-python",
   "name": "python",
   "nbconvert_exporter": "python",
   "pygments_lexer": "ipython3",
   "version": "3.10.11"
  }
 },
 "nbformat": 4,
 "nbformat_minor": 2
}
