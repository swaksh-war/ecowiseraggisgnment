{
 "cells": [
  {
   "cell_type": "code",
   "execution_count": 1,
   "metadata": {},
   "outputs": [],
   "source": [
    "import requests\n",
    "import bs4"
   ]
  },
  {
   "cell_type": "code",
   "execution_count": 2,
   "metadata": {},
   "outputs": [],
   "source": [
    "with open('Ritesh Kumar-1129697019.html', 'r') as f:\n",
    "    html_data = f.read()"
   ]
  },
  {
   "cell_type": "code",
   "execution_count": 3,
   "metadata": {},
   "outputs": [],
   "source": [
    "soup = bs4.BeautifulSoup(html_data, 'html.parser')"
   ]
  },
  {
   "cell_type": "code",
   "execution_count": 4,
   "metadata": {},
   "outputs": [],
   "source": [
    "#Name Details section\n",
    "def find_initital_details():\n",
    "    name_detail_container = soup.find('div', class_ = 'ph5')\n",
    "    full_name = name_detail_container.find('h1')\n",
    "    his_details = name_detail_container.find('div', class_ = 'text-body-medium')\n",
    "    his_connection_level = name_detail_container.find('span', class_ = 'link-without-visited-state')\n",
    "    return full_name.text.strip(), his_details.text.strip(), his_connection_level.text.strip()"
   ]
  },
  {
   "cell_type": "code",
   "execution_count": 5,
   "metadata": {},
   "outputs": [
    {
     "data": {
      "text/plain": [
       "('Ritesh Kumar',\n",
       " 'B-Tech 2024 || CSE || Amazon ML Summer School 2023 ll IIT JEE Maths Educator',\n",
       " '500+ connections')"
      ]
     },
     "execution_count": 5,
     "metadata": {},
     "output_type": "execute_result"
    }
   ],
   "source": [
    "find_initital_details()"
   ]
  },
  {
   "cell_type": "code",
   "execution_count": 6,
   "metadata": {},
   "outputs": [],
   "source": [
    "#lets fetch the next section 'activity'\n",
    "activities = soup.find_all('li', class_='profile-creator-shared-feed-update__mini-container')"
   ]
  },
  {
   "cell_type": "code",
   "execution_count": 7,
   "metadata": {},
   "outputs": [
    {
     "name": "stdout",
     "output_type": "stream",
     "text": [
      "https://www.linkedin.com/feed/update/urn:li:activity:7188117251869282304?updateEntityUrn=urn%3Ali%3Afs_updateV2%3A%28urn%3Ali%3Aactivity%3A7188117251869282304%2CFEED_DETAIL%2CEMPTY%2CDEFAULT%2Cfalse%29\n",
      "https://www.linkedin.com/feed/update/urn:li:activity:7187367287153213440?updateEntityUrn=urn%3Ali%3Afs_updateV2%3A%28urn%3Ali%3Aactivity%3A7187367287153213440%2CFEED_DETAIL%2CEMPTY%2CDEFAULT%2Cfalse%29\n",
      "https://www.linkedin.com/feed/update/urn:li:activity:7123974948162838528?updateEntityUrn=urn%3Ali%3Afs_updateV2%3A%28urn%3Ali%3Aactivity%3A7123974948162838528%2CFEED_DETAIL%2CEMPTY%2CDEFAULT%2Cfalse%29\n"
     ]
    }
   ],
   "source": [
    "for activity in activities:\n",
    "    activity_dict = {}\n",
    "    activity_a = activity.find('a', href=True)\n",
    "    link = activity_a['href']\n",
    "    print(link)\n"
   ]
  },
  {
   "cell_type": "code",
   "execution_count": null,
   "metadata": {},
   "outputs": [],
   "source": []
  }
 ],
 "metadata": {
  "kernelspec": {
   "display_name": "ds",
   "language": "python",
   "name": "python3"
  },
  "language_info": {
   "codemirror_mode": {
    "name": "ipython",
    "version": 3
   },
   "file_extension": ".py",
   "mimetype": "text/x-python",
   "name": "python",
   "nbconvert_exporter": "python",
   "pygments_lexer": "ipython3",
   "version": "3.10.14"
  }
 },
 "nbformat": 4,
 "nbformat_minor": 2
}
